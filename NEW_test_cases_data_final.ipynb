{
  "cells": [
    {
      "cell_type": "markdown",
      "id": "vertical-somewhere",
      "metadata": {
        "id": "vertical-somewhere"
      },
      "source": [
        "# Introduction\n",
        "\n",
        "This Notebooks is a join notebook from both the prepare_data and pytorch-bst in order to be run in google colab."
      ]
    },
    {
      "cell_type": "markdown",
      "id": "engaged-nutrition",
      "metadata": {
        "id": "engaged-nutrition"
      },
      "source": [
        "# Prepare data section"
      ]
    },
    {
      "cell_type": "code",
      "execution_count": null,
      "id": "indirect-chapter",
      "metadata": {
        "id": "indirect-chapter"
      },
      "outputs": [],
      "source": [
        "import pandas as pd\n",
        "import torch\n",
        "from tqdm import tqdm\n",
        "import math\n",
        "from urllib.request import urlretrieve\n",
        "from zipfile import ZipFile\n",
        "import os\n",
        "import numpy as np\n",
        "from math import sqrt\n",
        "from numpy.random import choice\n",
        "import math\n",
        "import random"
      ]
    },
    {
      "cell_type": "markdown",
      "id": "cognitive-constraint",
      "metadata": {
        "id": "cognitive-constraint"
      },
      "source": [
        "## Settings"
      ]
    },
    {
      "cell_type": "code",
      "execution_count": null,
      "id": "latest-medium",
      "metadata": {
        "id": "latest-medium"
      },
      "outputs": [],
      "source": [
        "WINDOW_SIZE = 20"
      ]
    },
    {
      "cell_type": "markdown",
      "id": "bibliographic-carbon",
      "metadata": {
        "id": "bibliographic-carbon"
      },
      "source": [
        "## Data"
      ]
    },
    {
      "cell_type": "code",
      "execution_count": null,
      "id": "medical-budapest",
      "metadata": {
        "id": "medical-budapest"
      },
      "outputs": [],
      "source": [
        "urlretrieve(\"http://files.grouplens.org/datasets/movielens/ml-1m.zip\", \"movielens.zip\")\n",
        "ZipFile(\"movielens.zip\", \"r\").extractall()"
      ]
    },
    {
      "cell_type": "code",
      "execution_count": null,
      "id": "iraqi-rescue",
      "metadata": {
        "colab": {
          "base_uri": "https://localhost:8080/"
        },
        "id": "iraqi-rescue",
        "outputId": "6fac860b-be07-4b04-83e5-219a51475bb7"
      },
      "outputs": [
        {
          "output_type": "stream",
          "name": "stderr",
          "text": [
            "/usr/local/lib/python3.8/dist-packages/pandas/util/_decorators.py:311: ParserWarning: Falling back to the 'python' engine because the 'c' engine does not support regex separators (separators > 1 char and different from '\\s+' are interpreted as regex); you can avoid this warning by specifying engine='python'.\n",
            "  return func(*args, **kwargs)\n"
          ]
        }
      ],
      "source": [
        "users = pd.read_csv(\n",
        "    \"ml-1m/users.dat\",\n",
        "    sep=\"::\",\n",
        "    names=[\"user_id\", \"sex\", \"age_group\", \"occupation\", \"zip_code\"],\n",
        ")\n",
        "\n",
        "ratings = pd.read_csv(\n",
        "    \"ml-1m/ratings.dat\",\n",
        "    sep=\"::\",\n",
        "    names=[\"user_id\", \"movie_id\", \"rating\", \"unix_timestamp\"],\n",
        ")\n",
        "\n",
        "movies = pd.read_csv(\n",
        "    \"ml-1m/movies.dat\", sep=\"::\", names=[\"movie_id\", \"title\", \"genres\"], encoding=\"ISO-8859-1\"\n",
        ")"
      ]
    },
    {
      "cell_type": "code",
      "execution_count": null,
      "id": "legendary-stomach",
      "metadata": {
        "id": "legendary-stomach"
      },
      "outputs": [],
      "source": [
        "## Movies\n",
        "movies[\"year\"] = movies[\"title\"].apply(lambda x: x[-5:-1])\n",
        "movies.year = pd.Categorical(movies.year)\n",
        "movies[\"year\"] = movies.year.cat.codes\n",
        "## Users\n",
        "users.sex = pd.Categorical(users.sex)\n",
        "users[\"sex\"] = users.sex.cat.codes\n",
        "\n",
        "\n",
        "users.age_group = pd.Categorical(users.age_group)\n",
        "users[\"age_group\"] = users.age_group.cat.codes\n",
        "\n",
        "\n",
        "users.occupation = pd.Categorical(users.occupation)\n",
        "users[\"occupation\"] = users.occupation.cat.codes\n",
        "\n",
        "\n",
        "users.zip_code = pd.Categorical(users.zip_code)\n",
        "users[\"zip_code\"] = users.zip_code.cat.codes\n",
        "\n",
        "#Ratings\n",
        "ratings['unix_timestamp'] = pd.to_datetime(ratings['unix_timestamp'],unit='s')\n"
      ]
    },
    {
      "cell_type": "code",
      "execution_count": null,
      "id": "voluntary-truth",
      "metadata": {
        "id": "voluntary-truth"
      },
      "outputs": [],
      "source": [
        "# Save primary csv's\n",
        "if not os.path.exists('data'):\n",
        "    os.makedirs('data')\n",
        "    \n",
        "    \n",
        "users.to_csv(\"data/users.csv\",index=False)\n",
        "movies.to_csv(\"data/movies.csv\",index=False)\n",
        "ratings.to_csv(\"data/ratings.csv\",index=False)"
      ]
    },
    {
      "cell_type": "code",
      "execution_count": null,
      "id": "artificial-australia",
      "metadata": {
        "id": "artificial-australia"
      },
      "outputs": [],
      "source": [
        "## Movies\n",
        "movies[\"movie_id\"] = movies[\"movie_id\"].astype(str)\n",
        "## Users\n",
        "users[\"user_id\"] = users[\"user_id\"].astype(str)\n",
        "\n",
        "##Ratings \n",
        "ratings[\"movie_id\"] = ratings[\"movie_id\"].astype(str)\n",
        "ratings[\"user_id\"] = ratings[\"user_id\"].astype(str)"
      ]
    },
    {
      "cell_type": "code",
      "execution_count": null,
      "id": "animated-slovenia",
      "metadata": {
        "id": "animated-slovenia"
      },
      "outputs": [],
      "source": [
        "genres = [\n",
        "    \"Action\",\n",
        "    \"Adventure\",\n",
        "    \"Animation\",\n",
        "    \"Children's\",\n",
        "    \"Comedy\",\n",
        "    \"Crime\",\n",
        "    \"Documentary\",\n",
        "    \"Drama\",\n",
        "    \"Fantasy\",\n",
        "    \"Film-Noir\",\n",
        "    \"Horror\",\n",
        "    \"Musical\",\n",
        "    \"Mystery\",\n",
        "    \"Romance\",\n",
        "    \"Sci-Fi\",\n",
        "    \"Thriller\",\n",
        "    \"War\",\n",
        "    \"Western\",\n",
        "]\n",
        "\n",
        "for genre in genres:\n",
        "    movies[genre] = movies[\"genres\"].apply(\n",
        "        lambda values: int(genre in values.split(\"|\"))\n",
        "    )\n"
      ]
    },
    {
      "cell_type": "markdown",
      "id": "ranking-calgary",
      "metadata": {
        "id": "ranking-calgary"
      },
      "source": [
        "### Transform the movie ratings data into sequences\n",
        "\n",
        "First, let's sort the the ratings data using the `unix_timestamp`, and then group the\n",
        "`movie_id` values and the `rating` values by `user_id`.\n",
        "\n",
        "The output DataFrame will have a record for each `user_id`, with two ordered lists\n",
        "(sorted by rating datetime): the movies they have rated, and their ratings of these movies."
      ]
    },
    {
      "cell_type": "code",
      "execution_count": null,
      "id": "light-publicity",
      "metadata": {
        "id": "light-publicity"
      },
      "outputs": [],
      "source": [
        "ratings_group = ratings.sort_values(by=[\"unix_timestamp\"]).groupby(\"user_id\")\n",
        "\n",
        "ratings_data = pd.DataFrame(\n",
        "    data={\n",
        "        \"user_id\": list(ratings_group.groups.keys()),\n",
        "        \"movie_ids\": list(ratings_group.movie_id.apply(list)),\n",
        "        \"ratings\": list(ratings_group.rating.apply(list)),\n",
        "        \"timestamps\": list(ratings_group.unix_timestamp.apply(list)),\n",
        "    }\n",
        ")\n"
      ]
    },
    {
      "cell_type": "markdown",
      "id": "amazing-affair",
      "metadata": {
        "id": "amazing-affair"
      },
      "source": [
        "Now, let's split the `movie_ids` list into a set of sequences of a fixed length.\n",
        "We do the same for the `ratings`. Set the `sequence_length` variable to change the length\n",
        "of the input sequence to the model. You can also change the `step_size` to control the\n",
        "number of sequences to generate for each user."
      ]
    },
    {
      "cell_type": "code",
      "source": [
        "ratings_data"
      ],
      "metadata": {
        "colab": {
          "base_uri": "https://localhost:8080/",
          "height": 423
        },
        "id": "_5bc2i8qC6Jf",
        "outputId": "e7be43fa-e05f-4891-f3fe-6817f8e29c6a"
      },
      "id": "_5bc2i8qC6Jf",
      "execution_count": null,
      "outputs": [
        {
          "output_type": "execute_result",
          "data": {
            "text/plain": [
              "     user_id                                          movie_ids  \\\n",
              "0          1  [3186, 1721, 1270, 1022, 2340, 1836, 3408, 120...   \n",
              "1         10  [597, 858, 743, 1210, 1948, 2312, 3751, 1282, ...   \n",
              "2        100  [260, 1676, 1198, 541, 1210, 3948, 3536, 2567,...   \n",
              "3       1000  [971, 260, 2990, 2973, 1210, 3068, 3153, 1198,...   \n",
              "4       1001  [1198, 1617, 2885, 3909, 3555, 1479, 3903, 394...   \n",
              "...      ...                                                ...   \n",
              "6035     995  [1894, 260, 247, 433, 170, 74, 912, 3097, 1265...   \n",
              "6036     996  [1347, 2146, 1961, 2741, 1210, 527, 1196, 1213...   \n",
              "6037     997  [1196, 2082, 3247, 2447, 2633, 2028, 593, 318,...   \n",
              "6038     998  [2266, 1264, 1097, 1641, 805, 1388, 1968, 3751...   \n",
              "6039     999  [1196, 1015, 1600, 1097, 1432, 1221, 1198, 121...   \n",
              "\n",
              "                                                ratings  \\\n",
              "0     [4, 4, 5, 5, 3, 5, 4, 4, 5, 4, 3, 5, 4, 4, 4, ...   \n",
              "1     [4, 3, 3, 4, 4, 5, 5, 5, 3, 3, 3, 5, 4, 4, 4, ...   \n",
              "2     [4, 3, 4, 3, 4, 3, 1, 1, 5, 4, 4, 3, 2, 3, 4, ...   \n",
              "3     [4, 5, 4, 3, 5, 5, 2, 5, 5, 4, 5, 4, 3, 5, 5, ...   \n",
              "4     [4, 4, 4, 2, 2, 1, 4, 5, 5, 4, 4, 4, 4, 3, 4, ...   \n",
              "...                                                 ...   \n",
              "6035  [2, 4, 5, 3, 3, 4, 4, 4, 3, 5, 5, 5, 5, 5, 5, ...   \n",
              "6036  [4, 3, 5, 3, 5, 5, 5, 5, 4, 2, 5, 5, 5, 4, 5, ...   \n",
              "6037  [4, 3, 3, 3, 2, 5, 5, 5, 4, 4, 5, 4, 4, 3, 4, ...   \n",
              "6038  [3, 4, 5, 5, 4, 3, 4, 3, 4, 4, 4, 4, 5, 5, 4, ...   \n",
              "6039  [5, 3, 1, 4, 2, 4, 4, 5, 5, 4, 4, 5, 5, 5, 3, ...   \n",
              "\n",
              "                                             timestamps  \n",
              "0     [2000-12-31 22:00:19, 2000-12-31 22:00:55, 200...  \n",
              "1     [2000-12-31 00:59:35, 2000-12-31 00:59:35, 200...  \n",
              "2     [2000-12-23 17:46:35, 2000-12-23 17:46:35, 200...  \n",
              "3     [2000-11-24 04:36:06, 2000-11-24 04:36:06, 200...  \n",
              "4     [2000-11-24 04:19:51, 2000-11-24 04:21:42, 200...  \n",
              "...                                                 ...  \n",
              "6035  [2000-11-24 08:33:05, 2000-11-24 08:33:05, 200...  \n",
              "6036  [2000-11-24 07:48:52, 2000-11-24 07:48:52, 200...  \n",
              "6037  [2000-11-24 05:37:15, 2000-11-24 05:40:25, 200...  \n",
              "6038  [2000-11-24 05:24:59, 2000-11-24 05:26:33, 200...  \n",
              "6039  [2000-11-24 05:13:07, 2000-11-24 05:15:21, 200...  \n",
              "\n",
              "[6040 rows x 4 columns]"
            ],
            "text/html": [
              "\n",
              "  <div id=\"df-a1752ae6-28c0-49eb-97e8-f12b22e2295f\">\n",
              "    <div class=\"colab-df-container\">\n",
              "      <div>\n",
              "<style scoped>\n",
              "    .dataframe tbody tr th:only-of-type {\n",
              "        vertical-align: middle;\n",
              "    }\n",
              "\n",
              "    .dataframe tbody tr th {\n",
              "        vertical-align: top;\n",
              "    }\n",
              "\n",
              "    .dataframe thead th {\n",
              "        text-align: right;\n",
              "    }\n",
              "</style>\n",
              "<table border=\"1\" class=\"dataframe\">\n",
              "  <thead>\n",
              "    <tr style=\"text-align: right;\">\n",
              "      <th></th>\n",
              "      <th>user_id</th>\n",
              "      <th>movie_ids</th>\n",
              "      <th>ratings</th>\n",
              "      <th>timestamps</th>\n",
              "    </tr>\n",
              "  </thead>\n",
              "  <tbody>\n",
              "    <tr>\n",
              "      <th>0</th>\n",
              "      <td>1</td>\n",
              "      <td>[3186, 1721, 1270, 1022, 2340, 1836, 3408, 120...</td>\n",
              "      <td>[4, 4, 5, 5, 3, 5, 4, 4, 5, 4, 3, 5, 4, 4, 4, ...</td>\n",
              "      <td>[2000-12-31 22:00:19, 2000-12-31 22:00:55, 200...</td>\n",
              "    </tr>\n",
              "    <tr>\n",
              "      <th>1</th>\n",
              "      <td>10</td>\n",
              "      <td>[597, 858, 743, 1210, 1948, 2312, 3751, 1282, ...</td>\n",
              "      <td>[4, 3, 3, 4, 4, 5, 5, 5, 3, 3, 3, 5, 4, 4, 4, ...</td>\n",
              "      <td>[2000-12-31 00:59:35, 2000-12-31 00:59:35, 200...</td>\n",
              "    </tr>\n",
              "    <tr>\n",
              "      <th>2</th>\n",
              "      <td>100</td>\n",
              "      <td>[260, 1676, 1198, 541, 1210, 3948, 3536, 2567,...</td>\n",
              "      <td>[4, 3, 4, 3, 4, 3, 1, 1, 5, 4, 4, 3, 2, 3, 4, ...</td>\n",
              "      <td>[2000-12-23 17:46:35, 2000-12-23 17:46:35, 200...</td>\n",
              "    </tr>\n",
              "    <tr>\n",
              "      <th>3</th>\n",
              "      <td>1000</td>\n",
              "      <td>[971, 260, 2990, 2973, 1210, 3068, 3153, 1198,...</td>\n",
              "      <td>[4, 5, 4, 3, 5, 5, 2, 5, 5, 4, 5, 4, 3, 5, 5, ...</td>\n",
              "      <td>[2000-11-24 04:36:06, 2000-11-24 04:36:06, 200...</td>\n",
              "    </tr>\n",
              "    <tr>\n",
              "      <th>4</th>\n",
              "      <td>1001</td>\n",
              "      <td>[1198, 1617, 2885, 3909, 3555, 1479, 3903, 394...</td>\n",
              "      <td>[4, 4, 4, 2, 2, 1, 4, 5, 5, 4, 4, 4, 4, 3, 4, ...</td>\n",
              "      <td>[2000-11-24 04:19:51, 2000-11-24 04:21:42, 200...</td>\n",
              "    </tr>\n",
              "    <tr>\n",
              "      <th>...</th>\n",
              "      <td>...</td>\n",
              "      <td>...</td>\n",
              "      <td>...</td>\n",
              "      <td>...</td>\n",
              "    </tr>\n",
              "    <tr>\n",
              "      <th>6035</th>\n",
              "      <td>995</td>\n",
              "      <td>[1894, 260, 247, 433, 170, 74, 912, 3097, 1265...</td>\n",
              "      <td>[2, 4, 5, 3, 3, 4, 4, 4, 3, 5, 5, 5, 5, 5, 5, ...</td>\n",
              "      <td>[2000-11-24 08:33:05, 2000-11-24 08:33:05, 200...</td>\n",
              "    </tr>\n",
              "    <tr>\n",
              "      <th>6036</th>\n",
              "      <td>996</td>\n",
              "      <td>[1347, 2146, 1961, 2741, 1210, 527, 1196, 1213...</td>\n",
              "      <td>[4, 3, 5, 3, 5, 5, 5, 5, 4, 2, 5, 5, 5, 4, 5, ...</td>\n",
              "      <td>[2000-11-24 07:48:52, 2000-11-24 07:48:52, 200...</td>\n",
              "    </tr>\n",
              "    <tr>\n",
              "      <th>6037</th>\n",
              "      <td>997</td>\n",
              "      <td>[1196, 2082, 3247, 2447, 2633, 2028, 593, 318,...</td>\n",
              "      <td>[4, 3, 3, 3, 2, 5, 5, 5, 4, 4, 5, 4, 4, 3, 4, ...</td>\n",
              "      <td>[2000-11-24 05:37:15, 2000-11-24 05:40:25, 200...</td>\n",
              "    </tr>\n",
              "    <tr>\n",
              "      <th>6038</th>\n",
              "      <td>998</td>\n",
              "      <td>[2266, 1264, 1097, 1641, 805, 1388, 1968, 3751...</td>\n",
              "      <td>[3, 4, 5, 5, 4, 3, 4, 3, 4, 4, 4, 4, 5, 5, 4, ...</td>\n",
              "      <td>[2000-11-24 05:24:59, 2000-11-24 05:26:33, 200...</td>\n",
              "    </tr>\n",
              "    <tr>\n",
              "      <th>6039</th>\n",
              "      <td>999</td>\n",
              "      <td>[1196, 1015, 1600, 1097, 1432, 1221, 1198, 121...</td>\n",
              "      <td>[5, 3, 1, 4, 2, 4, 4, 5, 5, 4, 4, 5, 5, 5, 3, ...</td>\n",
              "      <td>[2000-11-24 05:13:07, 2000-11-24 05:15:21, 200...</td>\n",
              "    </tr>\n",
              "  </tbody>\n",
              "</table>\n",
              "<p>6040 rows × 4 columns</p>\n",
              "</div>\n",
              "      <button class=\"colab-df-convert\" onclick=\"convertToInteractive('df-a1752ae6-28c0-49eb-97e8-f12b22e2295f')\"\n",
              "              title=\"Convert this dataframe to an interactive table.\"\n",
              "              style=\"display:none;\">\n",
              "        \n",
              "  <svg xmlns=\"http://www.w3.org/2000/svg\" height=\"24px\"viewBox=\"0 0 24 24\"\n",
              "       width=\"24px\">\n",
              "    <path d=\"M0 0h24v24H0V0z\" fill=\"none\"/>\n",
              "    <path d=\"M18.56 5.44l.94 2.06.94-2.06 2.06-.94-2.06-.94-.94-2.06-.94 2.06-2.06.94zm-11 1L8.5 8.5l.94-2.06 2.06-.94-2.06-.94L8.5 2.5l-.94 2.06-2.06.94zm10 10l.94 2.06.94-2.06 2.06-.94-2.06-.94-.94-2.06-.94 2.06-2.06.94z\"/><path d=\"M17.41 7.96l-1.37-1.37c-.4-.4-.92-.59-1.43-.59-.52 0-1.04.2-1.43.59L10.3 9.45l-7.72 7.72c-.78.78-.78 2.05 0 2.83L4 21.41c.39.39.9.59 1.41.59.51 0 1.02-.2 1.41-.59l7.78-7.78 2.81-2.81c.8-.78.8-2.07 0-2.86zM5.41 20L4 18.59l7.72-7.72 1.47 1.35L5.41 20z\"/>\n",
              "  </svg>\n",
              "      </button>\n",
              "      \n",
              "  <style>\n",
              "    .colab-df-container {\n",
              "      display:flex;\n",
              "      flex-wrap:wrap;\n",
              "      gap: 12px;\n",
              "    }\n",
              "\n",
              "    .colab-df-convert {\n",
              "      background-color: #E8F0FE;\n",
              "      border: none;\n",
              "      border-radius: 50%;\n",
              "      cursor: pointer;\n",
              "      display: none;\n",
              "      fill: #1967D2;\n",
              "      height: 32px;\n",
              "      padding: 0 0 0 0;\n",
              "      width: 32px;\n",
              "    }\n",
              "\n",
              "    .colab-df-convert:hover {\n",
              "      background-color: #E2EBFA;\n",
              "      box-shadow: 0px 1px 2px rgba(60, 64, 67, 0.3), 0px 1px 3px 1px rgba(60, 64, 67, 0.15);\n",
              "      fill: #174EA6;\n",
              "    }\n",
              "\n",
              "    [theme=dark] .colab-df-convert {\n",
              "      background-color: #3B4455;\n",
              "      fill: #D2E3FC;\n",
              "    }\n",
              "\n",
              "    [theme=dark] .colab-df-convert:hover {\n",
              "      background-color: #434B5C;\n",
              "      box-shadow: 0px 1px 3px 1px rgba(0, 0, 0, 0.15);\n",
              "      filter: drop-shadow(0px 1px 2px rgba(0, 0, 0, 0.3));\n",
              "      fill: #FFFFFF;\n",
              "    }\n",
              "  </style>\n",
              "\n",
              "      <script>\n",
              "        const buttonEl =\n",
              "          document.querySelector('#df-a1752ae6-28c0-49eb-97e8-f12b22e2295f button.colab-df-convert');\n",
              "        buttonEl.style.display =\n",
              "          google.colab.kernel.accessAllowed ? 'block' : 'none';\n",
              "\n",
              "        async function convertToInteractive(key) {\n",
              "          const element = document.querySelector('#df-a1752ae6-28c0-49eb-97e8-f12b22e2295f');\n",
              "          const dataTable =\n",
              "            await google.colab.kernel.invokeFunction('convertToInteractive',\n",
              "                                                     [key], {});\n",
              "          if (!dataTable) return;\n",
              "\n",
              "          const docLinkHtml = 'Like what you see? Visit the ' +\n",
              "            '<a target=\"_blank\" href=https://colab.research.google.com/notebooks/data_table.ipynb>data table notebook</a>'\n",
              "            + ' to learn more about interactive tables.';\n",
              "          element.innerHTML = '';\n",
              "          dataTable['output_type'] = 'display_data';\n",
              "          await google.colab.output.renderOutput(dataTable, element);\n",
              "          const docLink = document.createElement('div');\n",
              "          docLink.innerHTML = docLinkHtml;\n",
              "          element.appendChild(docLink);\n",
              "        }\n",
              "      </script>\n",
              "    </div>\n",
              "  </div>\n",
              "  "
            ]
          },
          "metadata": {},
          "execution_count": 10
        }
      ]
    },
    {
      "cell_type": "markdown",
      "source": [
        "# Here is where we change the data into different ratings\n",
        "\n",
        "* ratings_data -> no changes to the sequence\n",
        "* inputed_ratings_data -> inputed ratings\n",
        "* random_ratings_data \n",
        "\n",
        "Truth -> random sequences\n",
        "\n",
        "Toy Story III - Toy Story II - Toy Story -  Toy Story IV\n",
        "\n",
        "Toy Story - Toy Story II - Toy Story III - Toy Story IV\n",
        "Toy Story II - Toy Story III - Titanic - Toy Story IV"
      ],
      "metadata": {
        "id": "S2eHiQFl0L7u"
      },
      "id": "S2eHiQFl0L7u"
    },
    {
      "cell_type": "markdown",
      "source": [
        "### Sequence creation code"
      ],
      "metadata": {
        "id": "q6BJRlohda3T"
      },
      "id": "q6BJRlohda3T"
    },
    {
      "cell_type": "markdown",
      "source": [
        "# Methods for sequence perturbation and perturbation calculation"
      ],
      "metadata": {
        "id": "CTbkUYHMjkvf"
      },
      "id": "CTbkUYHMjkvf"
    },
    {
      "cell_type": "markdown",
      "source": [
        "### Random Inputation Methods"
      ],
      "metadata": {
        "id": "G-REWpcYjuxL"
      },
      "id": "G-REWpcYjuxL"
    },
    {
      "cell_type": "code",
      "source": [
        "def swap_elements(x, t, ratings):\n",
        "  new_x = x[:]\n",
        "  new_ratings = ratings[:]\n",
        "  for idx, value in zip(choice(range(len(x)), size=len(t), replace=False), t):\n",
        "      new_x[idx] = value\n",
        "      new_ratings[idx] = int(random.randint(1,5))\n",
        "  return new_x, new_ratings"
      ],
      "metadata": {
        "id": "rzINssSAObsW"
      },
      "id": "rzINssSAObsW",
      "execution_count": null,
      "outputs": []
    },
    {
      "cell_type": "code",
      "source": [
        "def random_inputation1(df, col1 ,col2 ,val, percentage = True):\n",
        "  # takes in the dataframe where we will inpute the data as df\n",
        "  # the all movies set is used so that we inpute movies that are not watched by the user\n",
        "  # col1 = name of the movie sequence column\n",
        "  # col2 = name of the rating sequence column\n",
        "  # the val is the amount of perturbation to the list it can be either a percentage or the number of values we want to perturb\n",
        "  inp_movie_ids = []\n",
        "  inp_ratings = []\n",
        "  for index, row in df.iterrows():\n",
        "    user_movies_sequence = row[f'{col1}']\n",
        "    ratings = row[f'{col2}']\n",
        "    n = len(user_movies_sequence)\n",
        "    \n",
        "    if percentage == True:\n",
        "      n_chose = math.floor(n * val)\n",
        "    if percentage == False:\n",
        "      n_chose = val\n",
        "    movies_to_input = random.choices(row['other_movies'],k =n_chose )\n",
        "    new_sequence, new_ratings = swap_elements(user_movies_sequence,movies_to_input, ratings)\n",
        "    inp_movie_ids.append(new_sequence)\n",
        "    inp_ratings.append(new_ratings)\n",
        "  df['inp_movie_ids'] = inp_movie_ids\n",
        "  df['inp_ratings'] = inp_ratings\n",
        "  return df"
      ],
      "metadata": {
        "id": "1tU6f-X-NPSf"
      },
      "id": "1tU6f-X-NPSf",
      "execution_count": null,
      "outputs": []
    },
    {
      "cell_type": "markdown",
      "source": [
        "### Corruption Measurement\n",
        "\n",
        "Counts the difference between the original sequence and the \"perturbed\" sequence"
      ],
      "metadata": {
        "id": "b_gs3UdwkvTp"
      },
      "id": "b_gs3UdwkvTp"
    },
    {
      "cell_type": "code",
      "source": [
        "def measure_corruption(df, column1 , column2 ):\n",
        "  perc_change = []\n",
        "  n_corrupted = []\n",
        "  for index, row in df.iterrows():\n",
        "    a = row[f'{column1}']\n",
        "    b= row[f'{column2}']\n",
        "    res = 0\n",
        "    for i in range(len(a)):\n",
        "      if a[i] != b[i]:\n",
        "        res +=1\n",
        "    perc_change.append(round(res/len(a)*100, 2))\n",
        "    n_corrupted.append(res)\n",
        "  df['percentage_change'] = perc_change\n",
        "  df['movies_corrupted'] = n_corrupted\n",
        "  return df"
      ],
      "metadata": {
        "id": "jXMvoTuSYXNU"
      },
      "id": "jXMvoTuSYXNU",
      "execution_count": null,
      "outputs": []
    },
    {
      "cell_type": "code",
      "source": [
        "ratings_data"
      ],
      "metadata": {
        "colab": {
          "base_uri": "https://localhost:8080/",
          "height": 423
        },
        "id": "gkiIYCrSswKC",
        "outputId": "cc8b6f3e-3427-4e19-b366-675d7dde86d4"
      },
      "id": "gkiIYCrSswKC",
      "execution_count": null,
      "outputs": [
        {
          "output_type": "execute_result",
          "data": {
            "text/plain": [
              "     user_id                                          movie_ids  \\\n",
              "0          1  [3186, 1721, 1270, 1022, 2340, 1836, 3408, 120...   \n",
              "1         10  [597, 858, 743, 1210, 1948, 2312, 3751, 1282, ...   \n",
              "2        100  [260, 1676, 1198, 541, 1210, 3948, 3536, 2567,...   \n",
              "3       1000  [971, 260, 2990, 2973, 1210, 3068, 3153, 1198,...   \n",
              "4       1001  [1198, 1617, 2885, 3909, 3555, 1479, 3903, 394...   \n",
              "...      ...                                                ...   \n",
              "6035     995  [1894, 260, 247, 433, 170, 74, 912, 3097, 1265...   \n",
              "6036     996  [1347, 2146, 1961, 2741, 1210, 527, 1196, 1213...   \n",
              "6037     997  [1196, 2082, 3247, 2447, 2633, 2028, 593, 318,...   \n",
              "6038     998  [2266, 1264, 1097, 1641, 805, 1388, 1968, 3751...   \n",
              "6039     999  [1196, 1015, 1600, 1097, 1432, 1221, 1198, 121...   \n",
              "\n",
              "                                                ratings  \\\n",
              "0     [4, 4, 5, 5, 3, 5, 4, 4, 5, 4, 3, 5, 4, 4, 4, ...   \n",
              "1     [4, 3, 3, 4, 4, 5, 5, 5, 3, 3, 3, 5, 4, 4, 4, ...   \n",
              "2     [4, 3, 4, 3, 4, 3, 1, 1, 5, 4, 4, 3, 2, 3, 4, ...   \n",
              "3     [4, 5, 4, 3, 5, 5, 2, 5, 5, 4, 5, 4, 3, 5, 5, ...   \n",
              "4     [4, 4, 4, 2, 2, 1, 4, 5, 5, 4, 4, 4, 4, 3, 4, ...   \n",
              "...                                                 ...   \n",
              "6035  [2, 4, 5, 3, 3, 4, 4, 4, 3, 5, 5, 5, 5, 5, 5, ...   \n",
              "6036  [4, 3, 5, 3, 5, 5, 5, 5, 4, 2, 5, 5, 5, 4, 5, ...   \n",
              "6037  [4, 3, 3, 3, 2, 5, 5, 5, 4, 4, 5, 4, 4, 3, 4, ...   \n",
              "6038  [3, 4, 5, 5, 4, 3, 4, 3, 4, 4, 4, 4, 5, 5, 4, ...   \n",
              "6039  [5, 3, 1, 4, 2, 4, 4, 5, 5, 4, 4, 5, 5, 5, 3, ...   \n",
              "\n",
              "                                             timestamps  \n",
              "0     [2000-12-31 22:00:19, 2000-12-31 22:00:55, 200...  \n",
              "1     [2000-12-31 00:59:35, 2000-12-31 00:59:35, 200...  \n",
              "2     [2000-12-23 17:46:35, 2000-12-23 17:46:35, 200...  \n",
              "3     [2000-11-24 04:36:06, 2000-11-24 04:36:06, 200...  \n",
              "4     [2000-11-24 04:19:51, 2000-11-24 04:21:42, 200...  \n",
              "...                                                 ...  \n",
              "6035  [2000-11-24 08:33:05, 2000-11-24 08:33:05, 200...  \n",
              "6036  [2000-11-24 07:48:52, 2000-11-24 07:48:52, 200...  \n",
              "6037  [2000-11-24 05:37:15, 2000-11-24 05:40:25, 200...  \n",
              "6038  [2000-11-24 05:24:59, 2000-11-24 05:26:33, 200...  \n",
              "6039  [2000-11-24 05:13:07, 2000-11-24 05:15:21, 200...  \n",
              "\n",
              "[6040 rows x 4 columns]"
            ],
            "text/html": [
              "\n",
              "  <div id=\"df-43372c11-cc4b-419d-ba8a-7efa8b3b70e5\">\n",
              "    <div class=\"colab-df-container\">\n",
              "      <div>\n",
              "<style scoped>\n",
              "    .dataframe tbody tr th:only-of-type {\n",
              "        vertical-align: middle;\n",
              "    }\n",
              "\n",
              "    .dataframe tbody tr th {\n",
              "        vertical-align: top;\n",
              "    }\n",
              "\n",
              "    .dataframe thead th {\n",
              "        text-align: right;\n",
              "    }\n",
              "</style>\n",
              "<table border=\"1\" class=\"dataframe\">\n",
              "  <thead>\n",
              "    <tr style=\"text-align: right;\">\n",
              "      <th></th>\n",
              "      <th>user_id</th>\n",
              "      <th>movie_ids</th>\n",
              "      <th>ratings</th>\n",
              "      <th>timestamps</th>\n",
              "    </tr>\n",
              "  </thead>\n",
              "  <tbody>\n",
              "    <tr>\n",
              "      <th>0</th>\n",
              "      <td>1</td>\n",
              "      <td>[3186, 1721, 1270, 1022, 2340, 1836, 3408, 120...</td>\n",
              "      <td>[4, 4, 5, 5, 3, 5, 4, 4, 5, 4, 3, 5, 4, 4, 4, ...</td>\n",
              "      <td>[2000-12-31 22:00:19, 2000-12-31 22:00:55, 200...</td>\n",
              "    </tr>\n",
              "    <tr>\n",
              "      <th>1</th>\n",
              "      <td>10</td>\n",
              "      <td>[597, 858, 743, 1210, 1948, 2312, 3751, 1282, ...</td>\n",
              "      <td>[4, 3, 3, 4, 4, 5, 5, 5, 3, 3, 3, 5, 4, 4, 4, ...</td>\n",
              "      <td>[2000-12-31 00:59:35, 2000-12-31 00:59:35, 200...</td>\n",
              "    </tr>\n",
              "    <tr>\n",
              "      <th>2</th>\n",
              "      <td>100</td>\n",
              "      <td>[260, 1676, 1198, 541, 1210, 3948, 3536, 2567,...</td>\n",
              "      <td>[4, 3, 4, 3, 4, 3, 1, 1, 5, 4, 4, 3, 2, 3, 4, ...</td>\n",
              "      <td>[2000-12-23 17:46:35, 2000-12-23 17:46:35, 200...</td>\n",
              "    </tr>\n",
              "    <tr>\n",
              "      <th>3</th>\n",
              "      <td>1000</td>\n",
              "      <td>[971, 260, 2990, 2973, 1210, 3068, 3153, 1198,...</td>\n",
              "      <td>[4, 5, 4, 3, 5, 5, 2, 5, 5, 4, 5, 4, 3, 5, 5, ...</td>\n",
              "      <td>[2000-11-24 04:36:06, 2000-11-24 04:36:06, 200...</td>\n",
              "    </tr>\n",
              "    <tr>\n",
              "      <th>4</th>\n",
              "      <td>1001</td>\n",
              "      <td>[1198, 1617, 2885, 3909, 3555, 1479, 3903, 394...</td>\n",
              "      <td>[4, 4, 4, 2, 2, 1, 4, 5, 5, 4, 4, 4, 4, 3, 4, ...</td>\n",
              "      <td>[2000-11-24 04:19:51, 2000-11-24 04:21:42, 200...</td>\n",
              "    </tr>\n",
              "    <tr>\n",
              "      <th>...</th>\n",
              "      <td>...</td>\n",
              "      <td>...</td>\n",
              "      <td>...</td>\n",
              "      <td>...</td>\n",
              "    </tr>\n",
              "    <tr>\n",
              "      <th>6035</th>\n",
              "      <td>995</td>\n",
              "      <td>[1894, 260, 247, 433, 170, 74, 912, 3097, 1265...</td>\n",
              "      <td>[2, 4, 5, 3, 3, 4, 4, 4, 3, 5, 5, 5, 5, 5, 5, ...</td>\n",
              "      <td>[2000-11-24 08:33:05, 2000-11-24 08:33:05, 200...</td>\n",
              "    </tr>\n",
              "    <tr>\n",
              "      <th>6036</th>\n",
              "      <td>996</td>\n",
              "      <td>[1347, 2146, 1961, 2741, 1210, 527, 1196, 1213...</td>\n",
              "      <td>[4, 3, 5, 3, 5, 5, 5, 5, 4, 2, 5, 5, 5, 4, 5, ...</td>\n",
              "      <td>[2000-11-24 07:48:52, 2000-11-24 07:48:52, 200...</td>\n",
              "    </tr>\n",
              "    <tr>\n",
              "      <th>6037</th>\n",
              "      <td>997</td>\n",
              "      <td>[1196, 2082, 3247, 2447, 2633, 2028, 593, 318,...</td>\n",
              "      <td>[4, 3, 3, 3, 2, 5, 5, 5, 4, 4, 5, 4, 4, 3, 4, ...</td>\n",
              "      <td>[2000-11-24 05:37:15, 2000-11-24 05:40:25, 200...</td>\n",
              "    </tr>\n",
              "    <tr>\n",
              "      <th>6038</th>\n",
              "      <td>998</td>\n",
              "      <td>[2266, 1264, 1097, 1641, 805, 1388, 1968, 3751...</td>\n",
              "      <td>[3, 4, 5, 5, 4, 3, 4, 3, 4, 4, 4, 4, 5, 5, 4, ...</td>\n",
              "      <td>[2000-11-24 05:24:59, 2000-11-24 05:26:33, 200...</td>\n",
              "    </tr>\n",
              "    <tr>\n",
              "      <th>6039</th>\n",
              "      <td>999</td>\n",
              "      <td>[1196, 1015, 1600, 1097, 1432, 1221, 1198, 121...</td>\n",
              "      <td>[5, 3, 1, 4, 2, 4, 4, 5, 5, 4, 4, 5, 5, 5, 3, ...</td>\n",
              "      <td>[2000-11-24 05:13:07, 2000-11-24 05:15:21, 200...</td>\n",
              "    </tr>\n",
              "  </tbody>\n",
              "</table>\n",
              "<p>6040 rows × 4 columns</p>\n",
              "</div>\n",
              "      <button class=\"colab-df-convert\" onclick=\"convertToInteractive('df-43372c11-cc4b-419d-ba8a-7efa8b3b70e5')\"\n",
              "              title=\"Convert this dataframe to an interactive table.\"\n",
              "              style=\"display:none;\">\n",
              "        \n",
              "  <svg xmlns=\"http://www.w3.org/2000/svg\" height=\"24px\"viewBox=\"0 0 24 24\"\n",
              "       width=\"24px\">\n",
              "    <path d=\"M0 0h24v24H0V0z\" fill=\"none\"/>\n",
              "    <path d=\"M18.56 5.44l.94 2.06.94-2.06 2.06-.94-2.06-.94-.94-2.06-.94 2.06-2.06.94zm-11 1L8.5 8.5l.94-2.06 2.06-.94-2.06-.94L8.5 2.5l-.94 2.06-2.06.94zm10 10l.94 2.06.94-2.06 2.06-.94-2.06-.94-.94-2.06-.94 2.06-2.06.94z\"/><path d=\"M17.41 7.96l-1.37-1.37c-.4-.4-.92-.59-1.43-.59-.52 0-1.04.2-1.43.59L10.3 9.45l-7.72 7.72c-.78.78-.78 2.05 0 2.83L4 21.41c.39.39.9.59 1.41.59.51 0 1.02-.2 1.41-.59l7.78-7.78 2.81-2.81c.8-.78.8-2.07 0-2.86zM5.41 20L4 18.59l7.72-7.72 1.47 1.35L5.41 20z\"/>\n",
              "  </svg>\n",
              "      </button>\n",
              "      \n",
              "  <style>\n",
              "    .colab-df-container {\n",
              "      display:flex;\n",
              "      flex-wrap:wrap;\n",
              "      gap: 12px;\n",
              "    }\n",
              "\n",
              "    .colab-df-convert {\n",
              "      background-color: #E8F0FE;\n",
              "      border: none;\n",
              "      border-radius: 50%;\n",
              "      cursor: pointer;\n",
              "      display: none;\n",
              "      fill: #1967D2;\n",
              "      height: 32px;\n",
              "      padding: 0 0 0 0;\n",
              "      width: 32px;\n",
              "    }\n",
              "\n",
              "    .colab-df-convert:hover {\n",
              "      background-color: #E2EBFA;\n",
              "      box-shadow: 0px 1px 2px rgba(60, 64, 67, 0.3), 0px 1px 3px 1px rgba(60, 64, 67, 0.15);\n",
              "      fill: #174EA6;\n",
              "    }\n",
              "\n",
              "    [theme=dark] .colab-df-convert {\n",
              "      background-color: #3B4455;\n",
              "      fill: #D2E3FC;\n",
              "    }\n",
              "\n",
              "    [theme=dark] .colab-df-convert:hover {\n",
              "      background-color: #434B5C;\n",
              "      box-shadow: 0px 1px 3px 1px rgba(0, 0, 0, 0.15);\n",
              "      filter: drop-shadow(0px 1px 2px rgba(0, 0, 0, 0.3));\n",
              "      fill: #FFFFFF;\n",
              "    }\n",
              "  </style>\n",
              "\n",
              "      <script>\n",
              "        const buttonEl =\n",
              "          document.querySelector('#df-43372c11-cc4b-419d-ba8a-7efa8b3b70e5 button.colab-df-convert');\n",
              "        buttonEl.style.display =\n",
              "          google.colab.kernel.accessAllowed ? 'block' : 'none';\n",
              "\n",
              "        async function convertToInteractive(key) {\n",
              "          const element = document.querySelector('#df-43372c11-cc4b-419d-ba8a-7efa8b3b70e5');\n",
              "          const dataTable =\n",
              "            await google.colab.kernel.invokeFunction('convertToInteractive',\n",
              "                                                     [key], {});\n",
              "          if (!dataTable) return;\n",
              "\n",
              "          const docLinkHtml = 'Like what you see? Visit the ' +\n",
              "            '<a target=\"_blank\" href=https://colab.research.google.com/notebooks/data_table.ipynb>data table notebook</a>'\n",
              "            + ' to learn more about interactive tables.';\n",
              "          element.innerHTML = '';\n",
              "          dataTable['output_type'] = 'display_data';\n",
              "          await google.colab.output.renderOutput(dataTable, element);\n",
              "          const docLink = document.createElement('div');\n",
              "          docLink.innerHTML = docLinkHtml;\n",
              "          element.appendChild(docLink);\n",
              "        }\n",
              "      </script>\n",
              "    </div>\n",
              "  </div>\n",
              "  "
            ]
          },
          "metadata": {},
          "execution_count": 15
        }
      ]
    },
    {
      "cell_type": "markdown",
      "source": [
        "# Only procedure\n",
        "\n",
        "Perturb the whole movie sequence and then feed it into models by building sequences"
      ],
      "metadata": {
        "id": "_7X0q9vHWbwx"
      },
      "id": "_7X0q9vHWbwx"
    },
    {
      "cell_type": "code",
      "source": [
        "# Import Drive API and authenticate.\n",
        "# from google.colab import drive\n",
        "\n",
        "# # Mount your Drive to the Colab VM.\n",
        "# drive.mount('/gdrive')\n",
        "\n",
        "# # Write the DataFrame to CSV file.\n",
        "# with open('/gdrive/My Drive/547 Project/data/train_data_final.csv', 'w') as f:\n",
        "#   train_data_final.to_csv(f)"
      ],
      "metadata": {
        "id": "JnYTH2uF_3nJ"
      },
      "id": "JnYTH2uF_3nJ",
      "execution_count": null,
      "outputs": []
    },
    {
      "cell_type": "code",
      "source": [
        "# we keep a copy for second procedure\n",
        "perturbation_0 = ratings_data.copy(deep=True)"
      ],
      "metadata": {
        "id": "oTgJWHcjAM8t"
      },
      "id": "oTgJWHcjAM8t",
      "execution_count": null,
      "outputs": []
    },
    {
      "cell_type": "code",
      "source": [
        "# No perturbation"
      ],
      "metadata": {
        "id": "snUv7BqktMDt"
      },
      "id": "snUv7BqktMDt",
      "execution_count": null,
      "outputs": []
    },
    {
      "cell_type": "code",
      "source": [
        "# Import Drive API and authenticate.\n",
        "from google.colab import drive\n",
        "\n",
        "# Mount your Drive to the Colab VM.\n",
        "drive.mount('/gdrive')\n",
        "\n",
        "# Write the DataFrame to CSV file.\n",
        "with open('/gdrive/My Drive/547 Project/data/truth.csv', 'w') as f:\n",
        "  perturbation_0.to_csv(f)"
      ],
      "metadata": {
        "id": "uAenTJz2PlFo",
        "colab": {
          "base_uri": "https://localhost:8080/"
        },
        "outputId": "b184c0be-d01b-465d-d467-a5c06ea7e2ee"
      },
      "id": "uAenTJz2PlFo",
      "execution_count": null,
      "outputs": [
        {
          "output_type": "stream",
          "name": "stdout",
          "text": [
            "Mounted at /gdrive\n"
          ]
        }
      ]
    },
    {
      "cell_type": "code",
      "source": [
        "def shuffle(movie_sequence, ratings, count):\n",
        "    '''Shuffles any n number of values in a list'''\n",
        "    indices_to_shuffle = random.sample(range(len(movie_sequence)), k=count)\n",
        "    old_indices = indices_to_shuffle.copy()\n",
        "    random.shuffle(indices_to_shuffle)\n",
        "    new_movie_sequence = movie_sequence.copy()\n",
        "    new_ratings_sequence = ratings.copy()\n",
        "    for index, value in enumerate(indices_to_shuffle):\n",
        "        old_index = old_indices[index]\n",
        "        new_movie_sequence[old_index] = movie_sequence[value]\n",
        "        new_ratings_sequence[old_index] = ratings[value]\n",
        "    \n",
        "    return new_movie_sequence,new_ratings_sequence"
      ],
      "metadata": {
        "id": "ccNH-0PWcyeC"
      },
      "id": "ccNH-0PWcyeC",
      "execution_count": null,
      "outputs": []
    },
    {
      "cell_type": "code",
      "source": [
        "def random_shuffling(df,col1,col2, val, percentage = True):\n",
        "  # takes in the dataframe where we will inpute the data as df\n",
        "  # the all movies set is used so that we inpute movies that are not watched by the user\n",
        "  # the percentage is the amount of perturbation to the list\n",
        "  new_sequences = []\n",
        "  new_rating_lists = []\n",
        "  for index, row in df.iterrows():\n",
        "    user_movies_sequence = row[f'{col1}']\n",
        "    ratings = row[f'{col2}']\n",
        "    n = len(user_movies_sequence)\n",
        "    if percentage:\n",
        "      n_shuffle = math.floor(n * val)\n",
        "    else:\n",
        "      n_shuffle = val\n",
        "    new_seq, new_ratings = shuffle(user_movies_sequence, ratings, n_shuffle)\n",
        "    new_sequences.append(new_seq)\n",
        "    new_rating_lists.append(new_ratings)\n",
        "  df['random_movie_ids'] = new_sequences\n",
        "  df['random_ratings'] = new_rating_lists\n",
        "  return df"
      ],
      "metadata": {
        "id": "wVjld9Qoj_kc"
      },
      "id": "wVjld9Qoj_kc",
      "execution_count": null,
      "outputs": []
    },
    {
      "cell_type": "markdown",
      "source": [
        "# Second Procedure (2) \n",
        "\n",
        "First perturb movie list and then separate into window sequences"
      ],
      "metadata": {
        "id": "he1HW1Xz-7Mp"
      },
      "id": "he1HW1Xz-7Mp"
    },
    {
      "cell_type": "markdown",
      "source": [
        "## Random Inputation"
      ],
      "metadata": {
        "id": "3-5YqB4SAVzF"
      },
      "id": "3-5YqB4SAVzF"
    },
    {
      "cell_type": "code",
      "source": [
        "def random_inputation2(df, all_movies_set, col1 ,col2 ,val, percentage = True):\n",
        "  # takes in the dataframe where we will inpute the data as df\n",
        "  # the all movies set is used so that we inpute movies that are not watched by the user\n",
        "  # col1 = name of the movie sequence column\n",
        "  # col2 = name of the rating sequence column\n",
        "  # the val is the amount of perturbation to the list it can be either a percentage or the number of values we want to perturb\n",
        "  random.seed(10)\n",
        "  inp_movie_ids = []\n",
        "  inp_ratings = []\n",
        "  for index, row in df.iterrows():\n",
        "    user_movies_sequence = row[f'{col1}']\n",
        "    ratings = row[f'{col2}']\n",
        "    n = len(user_movies_sequence)\n",
        "    user_movies_sequence_set = set(user_movies_sequence)\n",
        "    difference_set = all_movies_set - user_movies_sequence_set\n",
        "    if percentage:\n",
        "      n_chose = math.floor(n * val)\n",
        "    else:\n",
        "      n_chose = val\n",
        "    movies_to_input = random.choices(list(difference_set),k =n_chose )\n",
        "    user_movies_sequence, new_ratings = swap_elements(user_movies_sequence,movies_to_input, ratings)\n",
        "    inp_movie_ids.append(user_movies_sequence)\n",
        "    inp_ratings.append(new_ratings)\n",
        "  df['inp_movie_ids'] = inp_movie_ids\n",
        "  df['inp_ratings'] = inp_ratings\n",
        "  return df"
      ],
      "metadata": {
        "id": "4Wlu_qJkE4hY"
      },
      "id": "4Wlu_qJkE4hY",
      "execution_count": null,
      "outputs": []
    },
    {
      "cell_type": "code",
      "source": [
        "all_movies_set = set(movies.movie_id.to_list())"
      ],
      "metadata": {
        "id": "fLEX_VkiBTKL"
      },
      "id": "fLEX_VkiBTKL",
      "execution_count": null,
      "outputs": []
    },
    {
      "cell_type": "code",
      "source": [
        "# inpute 10% of movies into sequence\n",
        "random.seed(10)\n",
        "inputed_ratings_data_10 = ratings_data.copy(deep=True)\n",
        "inputed_ratings_data_10 = random_inputation2(inputed_ratings_data_10,all_movies_set,'movie_ids','ratings', 0.1, True) # we can change the percentage we want"
      ],
      "metadata": {
        "id": "7Ni4rIaiudCj"
      },
      "id": "7Ni4rIaiudCj",
      "execution_count": null,
      "outputs": []
    },
    {
      "cell_type": "code",
      "source": [
        "inputed_ratings_data_10"
      ],
      "metadata": {
        "colab": {
          "base_uri": "https://localhost:8080/",
          "height": 641
        },
        "id": "gQQxmegruew6",
        "outputId": "c517e1cc-00b7-485d-8d88-603fc299b644"
      },
      "id": "gQQxmegruew6",
      "execution_count": null,
      "outputs": [
        {
          "output_type": "execute_result",
          "data": {
            "text/plain": [
              "     user_id                                          movie_ids  \\\n",
              "0          1  [3186, 1721, 1270, 1022, 2340, 1836, 3408, 120...   \n",
              "1         10  [597, 858, 743, 1210, 1948, 2312, 3751, 1282, ...   \n",
              "2        100  [260, 1676, 1198, 541, 1210, 3948, 3536, 2567,...   \n",
              "3       1000  [971, 260, 2990, 2973, 1210, 3068, 3153, 1198,...   \n",
              "4       1001  [1198, 1617, 2885, 3909, 3555, 1479, 3903, 394...   \n",
              "...      ...                                                ...   \n",
              "6035     995  [1894, 260, 247, 433, 170, 74, 912, 3097, 1265...   \n",
              "6036     996  [1347, 2146, 1961, 2741, 1210, 527, 1196, 1213...   \n",
              "6037     997  [1196, 2082, 3247, 2447, 2633, 2028, 593, 318,...   \n",
              "6038     998  [2266, 1264, 1097, 1641, 805, 1388, 1968, 3751...   \n",
              "6039     999  [1196, 1015, 1600, 1097, 1432, 1221, 1198, 121...   \n",
              "\n",
              "                                                ratings  \\\n",
              "0     [4, 4, 5, 5, 3, 5, 4, 4, 5, 4, 3, 5, 4, 4, 4, ...   \n",
              "1     [4, 3, 3, 4, 4, 5, 5, 5, 3, 3, 3, 5, 4, 4, 4, ...   \n",
              "2     [4, 3, 4, 3, 4, 3, 1, 1, 5, 4, 4, 3, 2, 3, 4, ...   \n",
              "3     [4, 5, 4, 3, 5, 5, 2, 5, 5, 4, 5, 4, 3, 5, 5, ...   \n",
              "4     [4, 4, 4, 2, 2, 1, 4, 5, 5, 4, 4, 4, 4, 3, 4, ...   \n",
              "...                                                 ...   \n",
              "6035  [2, 4, 5, 3, 3, 4, 4, 4, 3, 5, 5, 5, 5, 5, 5, ...   \n",
              "6036  [4, 3, 5, 3, 5, 5, 5, 5, 4, 2, 5, 5, 5, 4, 5, ...   \n",
              "6037  [4, 3, 3, 3, 2, 5, 5, 5, 4, 4, 5, 4, 4, 3, 4, ...   \n",
              "6038  [3, 4, 5, 5, 4, 3, 4, 3, 4, 4, 4, 4, 5, 5, 4, ...   \n",
              "6039  [5, 3, 1, 4, 2, 4, 4, 5, 5, 4, 4, 5, 5, 5, 3, ...   \n",
              "\n",
              "                                             timestamps  \\\n",
              "0     [2000-12-31 22:00:19, 2000-12-31 22:00:55, 200...   \n",
              "1     [2000-12-31 00:59:35, 2000-12-31 00:59:35, 200...   \n",
              "2     [2000-12-23 17:46:35, 2000-12-23 17:46:35, 200...   \n",
              "3     [2000-11-24 04:36:06, 2000-11-24 04:36:06, 200...   \n",
              "4     [2000-11-24 04:19:51, 2000-11-24 04:21:42, 200...   \n",
              "...                                                 ...   \n",
              "6035  [2000-11-24 08:33:05, 2000-11-24 08:33:05, 200...   \n",
              "6036  [2000-11-24 07:48:52, 2000-11-24 07:48:52, 200...   \n",
              "6037  [2000-11-24 05:37:15, 2000-11-24 05:40:25, 200...   \n",
              "6038  [2000-11-24 05:24:59, 2000-11-24 05:26:33, 200...   \n",
              "6039  [2000-11-24 05:13:07, 2000-11-24 05:15:21, 200...   \n",
              "\n",
              "                                          inp_movie_ids  \\\n",
              "0     [3186, 1721, 1270, 1022, 2340, 1836, 3408, 120...   \n",
              "1     [3440, 858, 743, 955, 2626, 2312, 3751, 1282, ...   \n",
              "2     [260, 1676, 1198, 541, 1210, 3948, 3536, 111, ...   \n",
              "3     [971, 260, 2990, 3778, 1210, 3068, 2843, 1198,...   \n",
              "4     [1198, 1617, 3234, 3909, 3555, 320, 3903, 3949...   \n",
              "...                                                 ...   \n",
              "6035  [1894, 260, 247, 433, 170, 74, 912, 2215, 515,...   \n",
              "6036  [1347, 2146, 1961, 2741, 1210, 527, 1196, 1213...   \n",
              "6037  [1196, 2082, 3247, 2447, 2633, 2028, 593, 3190...   \n",
              "6038  [2266, 1264, 1097, 1641, 3099, 1388, 1968, 375...   \n",
              "6039  [1196, 1015, 1600, 1097, 1432, 1221, 1198, 121...   \n",
              "\n",
              "                                            inp_ratings  \n",
              "0     [4, 4, 5, 5, 3, 5, 4, 4, 1, 4, 3, 5, 4, 4, 2, ...  \n",
              "1     [4, 3, 3, 5, 1, 5, 5, 5, 3, 4, 3, 5, 4, 4, 4, ...  \n",
              "2     [4, 3, 4, 3, 4, 3, 1, 1, 5, 2, 4, 4, 2, 3, 4, ...  \n",
              "3     [4, 5, 4, 1, 5, 5, 4, 5, 5, 4, 5, 4, 3, 5, 5, ...  \n",
              "4     [4, 4, 4, 2, 2, 3, 4, 5, 5, 4, 4, 4, 4, 3, 4, ...  \n",
              "...                                                 ...  \n",
              "6035  [2, 4, 5, 3, 3, 4, 4, 3, 3, 5, 5, 5, 5, 5, 5, ...  \n",
              "6036  [4, 3, 5, 3, 5, 5, 5, 5, 4, 2, 5, 5, 5, 3, 5, ...  \n",
              "6037  [4, 3, 3, 3, 2, 5, 5, 4, 4, 4, 4, 4, 4, 3, 4, ...  \n",
              "6038  [3, 4, 5, 5, 2, 3, 4, 3, 4, 3, 4, 4, 5, 5, 1, ...  \n",
              "6039  [5, 3, 1, 4, 2, 4, 4, 5, 5, 4, 4, 5, 5, 1, 5, ...  \n",
              "\n",
              "[6040 rows x 6 columns]"
            ],
            "text/html": [
              "\n",
              "  <div id=\"df-9b884de0-36dc-43d9-a7cd-9842e73d5c0a\">\n",
              "    <div class=\"colab-df-container\">\n",
              "      <div>\n",
              "<style scoped>\n",
              "    .dataframe tbody tr th:only-of-type {\n",
              "        vertical-align: middle;\n",
              "    }\n",
              "\n",
              "    .dataframe tbody tr th {\n",
              "        vertical-align: top;\n",
              "    }\n",
              "\n",
              "    .dataframe thead th {\n",
              "        text-align: right;\n",
              "    }\n",
              "</style>\n",
              "<table border=\"1\" class=\"dataframe\">\n",
              "  <thead>\n",
              "    <tr style=\"text-align: right;\">\n",
              "      <th></th>\n",
              "      <th>user_id</th>\n",
              "      <th>movie_ids</th>\n",
              "      <th>ratings</th>\n",
              "      <th>timestamps</th>\n",
              "      <th>inp_movie_ids</th>\n",
              "      <th>inp_ratings</th>\n",
              "    </tr>\n",
              "  </thead>\n",
              "  <tbody>\n",
              "    <tr>\n",
              "      <th>0</th>\n",
              "      <td>1</td>\n",
              "      <td>[3186, 1721, 1270, 1022, 2340, 1836, 3408, 120...</td>\n",
              "      <td>[4, 4, 5, 5, 3, 5, 4, 4, 5, 4, 3, 5, 4, 4, 4, ...</td>\n",
              "      <td>[2000-12-31 22:00:19, 2000-12-31 22:00:55, 200...</td>\n",
              "      <td>[3186, 1721, 1270, 1022, 2340, 1836, 3408, 120...</td>\n",
              "      <td>[4, 4, 5, 5, 3, 5, 4, 4, 1, 4, 3, 5, 4, 4, 2, ...</td>\n",
              "    </tr>\n",
              "    <tr>\n",
              "      <th>1</th>\n",
              "      <td>10</td>\n",
              "      <td>[597, 858, 743, 1210, 1948, 2312, 3751, 1282, ...</td>\n",
              "      <td>[4, 3, 3, 4, 4, 5, 5, 5, 3, 3, 3, 5, 4, 4, 4, ...</td>\n",
              "      <td>[2000-12-31 00:59:35, 2000-12-31 00:59:35, 200...</td>\n",
              "      <td>[3440, 858, 743, 955, 2626, 2312, 3751, 1282, ...</td>\n",
              "      <td>[4, 3, 3, 5, 1, 5, 5, 5, 3, 4, 3, 5, 4, 4, 4, ...</td>\n",
              "    </tr>\n",
              "    <tr>\n",
              "      <th>2</th>\n",
              "      <td>100</td>\n",
              "      <td>[260, 1676, 1198, 541, 1210, 3948, 3536, 2567,...</td>\n",
              "      <td>[4, 3, 4, 3, 4, 3, 1, 1, 5, 4, 4, 3, 2, 3, 4, ...</td>\n",
              "      <td>[2000-12-23 17:46:35, 2000-12-23 17:46:35, 200...</td>\n",
              "      <td>[260, 1676, 1198, 541, 1210, 3948, 3536, 111, ...</td>\n",
              "      <td>[4, 3, 4, 3, 4, 3, 1, 1, 5, 2, 4, 4, 2, 3, 4, ...</td>\n",
              "    </tr>\n",
              "    <tr>\n",
              "      <th>3</th>\n",
              "      <td>1000</td>\n",
              "      <td>[971, 260, 2990, 2973, 1210, 3068, 3153, 1198,...</td>\n",
              "      <td>[4, 5, 4, 3, 5, 5, 2, 5, 5, 4, 5, 4, 3, 5, 5, ...</td>\n",
              "      <td>[2000-11-24 04:36:06, 2000-11-24 04:36:06, 200...</td>\n",
              "      <td>[971, 260, 2990, 3778, 1210, 3068, 2843, 1198,...</td>\n",
              "      <td>[4, 5, 4, 1, 5, 5, 4, 5, 5, 4, 5, 4, 3, 5, 5, ...</td>\n",
              "    </tr>\n",
              "    <tr>\n",
              "      <th>4</th>\n",
              "      <td>1001</td>\n",
              "      <td>[1198, 1617, 2885, 3909, 3555, 1479, 3903, 394...</td>\n",
              "      <td>[4, 4, 4, 2, 2, 1, 4, 5, 5, 4, 4, 4, 4, 3, 4, ...</td>\n",
              "      <td>[2000-11-24 04:19:51, 2000-11-24 04:21:42, 200...</td>\n",
              "      <td>[1198, 1617, 3234, 3909, 3555, 320, 3903, 3949...</td>\n",
              "      <td>[4, 4, 4, 2, 2, 3, 4, 5, 5, 4, 4, 4, 4, 3, 4, ...</td>\n",
              "    </tr>\n",
              "    <tr>\n",
              "      <th>...</th>\n",
              "      <td>...</td>\n",
              "      <td>...</td>\n",
              "      <td>...</td>\n",
              "      <td>...</td>\n",
              "      <td>...</td>\n",
              "      <td>...</td>\n",
              "    </tr>\n",
              "    <tr>\n",
              "      <th>6035</th>\n",
              "      <td>995</td>\n",
              "      <td>[1894, 260, 247, 433, 170, 74, 912, 3097, 1265...</td>\n",
              "      <td>[2, 4, 5, 3, 3, 4, 4, 4, 3, 5, 5, 5, 5, 5, 5, ...</td>\n",
              "      <td>[2000-11-24 08:33:05, 2000-11-24 08:33:05, 200...</td>\n",
              "      <td>[1894, 260, 247, 433, 170, 74, 912, 2215, 515,...</td>\n",
              "      <td>[2, 4, 5, 3, 3, 4, 4, 3, 3, 5, 5, 5, 5, 5, 5, ...</td>\n",
              "    </tr>\n",
              "    <tr>\n",
              "      <th>6036</th>\n",
              "      <td>996</td>\n",
              "      <td>[1347, 2146, 1961, 2741, 1210, 527, 1196, 1213...</td>\n",
              "      <td>[4, 3, 5, 3, 5, 5, 5, 5, 4, 2, 5, 5, 5, 4, 5, ...</td>\n",
              "      <td>[2000-11-24 07:48:52, 2000-11-24 07:48:52, 200...</td>\n",
              "      <td>[1347, 2146, 1961, 2741, 1210, 527, 1196, 1213...</td>\n",
              "      <td>[4, 3, 5, 3, 5, 5, 5, 5, 4, 2, 5, 5, 5, 3, 5, ...</td>\n",
              "    </tr>\n",
              "    <tr>\n",
              "      <th>6037</th>\n",
              "      <td>997</td>\n",
              "      <td>[1196, 2082, 3247, 2447, 2633, 2028, 593, 318,...</td>\n",
              "      <td>[4, 3, 3, 3, 2, 5, 5, 5, 4, 4, 5, 4, 4, 3, 4, ...</td>\n",
              "      <td>[2000-11-24 05:37:15, 2000-11-24 05:40:25, 200...</td>\n",
              "      <td>[1196, 2082, 3247, 2447, 2633, 2028, 593, 3190...</td>\n",
              "      <td>[4, 3, 3, 3, 2, 5, 5, 4, 4, 4, 4, 4, 4, 3, 4, ...</td>\n",
              "    </tr>\n",
              "    <tr>\n",
              "      <th>6038</th>\n",
              "      <td>998</td>\n",
              "      <td>[2266, 1264, 1097, 1641, 805, 1388, 1968, 3751...</td>\n",
              "      <td>[3, 4, 5, 5, 4, 3, 4, 3, 4, 4, 4, 4, 5, 5, 4, ...</td>\n",
              "      <td>[2000-11-24 05:24:59, 2000-11-24 05:26:33, 200...</td>\n",
              "      <td>[2266, 1264, 1097, 1641, 3099, 1388, 1968, 375...</td>\n",
              "      <td>[3, 4, 5, 5, 2, 3, 4, 3, 4, 3, 4, 4, 5, 5, 1, ...</td>\n",
              "    </tr>\n",
              "    <tr>\n",
              "      <th>6039</th>\n",
              "      <td>999</td>\n",
              "      <td>[1196, 1015, 1600, 1097, 1432, 1221, 1198, 121...</td>\n",
              "      <td>[5, 3, 1, 4, 2, 4, 4, 5, 5, 4, 4, 5, 5, 5, 3, ...</td>\n",
              "      <td>[2000-11-24 05:13:07, 2000-11-24 05:15:21, 200...</td>\n",
              "      <td>[1196, 1015, 1600, 1097, 1432, 1221, 1198, 121...</td>\n",
              "      <td>[5, 3, 1, 4, 2, 4, 4, 5, 5, 4, 4, 5, 5, 1, 5, ...</td>\n",
              "    </tr>\n",
              "  </tbody>\n",
              "</table>\n",
              "<p>6040 rows × 6 columns</p>\n",
              "</div>\n",
              "      <button class=\"colab-df-convert\" onclick=\"convertToInteractive('df-9b884de0-36dc-43d9-a7cd-9842e73d5c0a')\"\n",
              "              title=\"Convert this dataframe to an interactive table.\"\n",
              "              style=\"display:none;\">\n",
              "        \n",
              "  <svg xmlns=\"http://www.w3.org/2000/svg\" height=\"24px\"viewBox=\"0 0 24 24\"\n",
              "       width=\"24px\">\n",
              "    <path d=\"M0 0h24v24H0V0z\" fill=\"none\"/>\n",
              "    <path d=\"M18.56 5.44l.94 2.06.94-2.06 2.06-.94-2.06-.94-.94-2.06-.94 2.06-2.06.94zm-11 1L8.5 8.5l.94-2.06 2.06-.94-2.06-.94L8.5 2.5l-.94 2.06-2.06.94zm10 10l.94 2.06.94-2.06 2.06-.94-2.06-.94-.94-2.06-.94 2.06-2.06.94z\"/><path d=\"M17.41 7.96l-1.37-1.37c-.4-.4-.92-.59-1.43-.59-.52 0-1.04.2-1.43.59L10.3 9.45l-7.72 7.72c-.78.78-.78 2.05 0 2.83L4 21.41c.39.39.9.59 1.41.59.51 0 1.02-.2 1.41-.59l7.78-7.78 2.81-2.81c.8-.78.8-2.07 0-2.86zM5.41 20L4 18.59l7.72-7.72 1.47 1.35L5.41 20z\"/>\n",
              "  </svg>\n",
              "      </button>\n",
              "      \n",
              "  <style>\n",
              "    .colab-df-container {\n",
              "      display:flex;\n",
              "      flex-wrap:wrap;\n",
              "      gap: 12px;\n",
              "    }\n",
              "\n",
              "    .colab-df-convert {\n",
              "      background-color: #E8F0FE;\n",
              "      border: none;\n",
              "      border-radius: 50%;\n",
              "      cursor: pointer;\n",
              "      display: none;\n",
              "      fill: #1967D2;\n",
              "      height: 32px;\n",
              "      padding: 0 0 0 0;\n",
              "      width: 32px;\n",
              "    }\n",
              "\n",
              "    .colab-df-convert:hover {\n",
              "      background-color: #E2EBFA;\n",
              "      box-shadow: 0px 1px 2px rgba(60, 64, 67, 0.3), 0px 1px 3px 1px rgba(60, 64, 67, 0.15);\n",
              "      fill: #174EA6;\n",
              "    }\n",
              "\n",
              "    [theme=dark] .colab-df-convert {\n",
              "      background-color: #3B4455;\n",
              "      fill: #D2E3FC;\n",
              "    }\n",
              "\n",
              "    [theme=dark] .colab-df-convert:hover {\n",
              "      background-color: #434B5C;\n",
              "      box-shadow: 0px 1px 3px 1px rgba(0, 0, 0, 0.15);\n",
              "      filter: drop-shadow(0px 1px 2px rgba(0, 0, 0, 0.3));\n",
              "      fill: #FFFFFF;\n",
              "    }\n",
              "  </style>\n",
              "\n",
              "      <script>\n",
              "        const buttonEl =\n",
              "          document.querySelector('#df-9b884de0-36dc-43d9-a7cd-9842e73d5c0a button.colab-df-convert');\n",
              "        buttonEl.style.display =\n",
              "          google.colab.kernel.accessAllowed ? 'block' : 'none';\n",
              "\n",
              "        async function convertToInteractive(key) {\n",
              "          const element = document.querySelector('#df-9b884de0-36dc-43d9-a7cd-9842e73d5c0a');\n",
              "          const dataTable =\n",
              "            await google.colab.kernel.invokeFunction('convertToInteractive',\n",
              "                                                     [key], {});\n",
              "          if (!dataTable) return;\n",
              "\n",
              "          const docLinkHtml = 'Like what you see? Visit the ' +\n",
              "            '<a target=\"_blank\" href=https://colab.research.google.com/notebooks/data_table.ipynb>data table notebook</a>'\n",
              "            + ' to learn more about interactive tables.';\n",
              "          element.innerHTML = '';\n",
              "          dataTable['output_type'] = 'display_data';\n",
              "          await google.colab.output.renderOutput(dataTable, element);\n",
              "          const docLink = document.createElement('div');\n",
              "          docLink.innerHTML = docLinkHtml;\n",
              "          element.appendChild(docLink);\n",
              "        }\n",
              "      </script>\n",
              "    </div>\n",
              "  </div>\n",
              "  "
            ]
          },
          "metadata": {},
          "execution_count": 25
        }
      ]
    },
    {
      "cell_type": "code",
      "source": [
        "# inpute 10% of movies into sequence\n",
        "random.seed(10)\n",
        "random_df = ratings_data.copy(deep=True)\n",
        "inputed_ratings_data_10 = random_inputation2(random_df,all_movies_set,'movie_ids','ratings', 0.1, True) # we can change the percentage we want\n",
        "# inpute 20% of movies into sequence\n",
        "random.seed(10)\n",
        "random_df = ratings_data.copy(deep=True)\n",
        "inputed_ratings_data_20 = random_inputation2(random_df,all_movies_set,'movie_ids','ratings', 0.2, True) # we can change the percentage we want\n",
        "# inpute 30% of movies into sequence\n",
        "random.seed(10)\n",
        "random_df = ratings_data.copy(deep=True)\n",
        "inputed_ratings_data_30 = random_inputation2(random_df,all_movies_set,'movie_ids','ratings', 0.3, True) # we can change the percentage we want\n",
        "# inpute 40% of movies into sequence\n",
        "random.seed(10)\n",
        "random_df = ratings_data.copy(deep=True)\n",
        "inputed_ratings_data_40 = random_inputation2(random_df,all_movies_set,'movie_ids','ratings', 0.4, True) # we can change the percentage we want\n",
        "# inpute 50% of movies into sequence\n",
        "random.seed(10)\n",
        "random_df = ratings_data.copy(deep=True)\n",
        "inputed_ratings_data_50 = random_inputation2(random_df,all_movies_set,'movie_ids','ratings', 0.5, True) # we can change the percentage we want\n"
      ],
      "metadata": {
        "id": "Xm0vFk3zAo5N"
      },
      "id": "Xm0vFk3zAo5N",
      "execution_count": null,
      "outputs": []
    },
    {
      "cell_type": "code",
      "source": [
        "# # Write the DataFrame to CSV file.\n",
        "from google.colab import drive\n",
        "drive.mount('/gdrive')\n",
        "with open('/gdrive/My Drive/547 Project/data/inputed_ratings_data_10.csv', 'w') as f:\n",
        "  inputed_ratings_data_10.to_csv(f)\n",
        "with open('/gdrive/My Drive/547 Project/data/inputed_ratings_data_20.csv', 'w') as f:\n",
        "  inputed_ratings_data_20.to_csv(f)\n",
        "with open('/gdrive/My Drive/547 Project/data/inputed_ratings_data_30.csv', 'w') as f:\n",
        "  inputed_ratings_data_30.to_csv(f)\n",
        "with open('/gdrive/My Drive/547 Project/data/inputed_ratings_data_40.csv', 'w') as f:\n",
        "  inputed_ratings_data_40.to_csv(f)\n",
        "with open('/gdrive/My Drive/547 Project/data/inputed_ratings_data_50.csv', 'w') as f:\n",
        "  inputed_ratings_data_50.to_csv(f)"
      ],
      "metadata": {
        "colab": {
          "base_uri": "https://localhost:8080/"
        },
        "id": "HE4axru4yMuR",
        "outputId": "6c4627f8-5bb1-47c9-ea6e-81799343165d"
      },
      "id": "HE4axru4yMuR",
      "execution_count": null,
      "outputs": [
        {
          "output_type": "stream",
          "name": "stdout",
          "text": [
            "Drive already mounted at /gdrive; to attempt to forcibly remount, call drive.mount(\"/gdrive\", force_remount=True).\n"
          ]
        }
      ]
    },
    {
      "cell_type": "markdown",
      "source": [
        "## Random Sequences"
      ],
      "metadata": {
        "id": "JxaPGSd7XuWS"
      },
      "id": "JxaPGSd7XuWS"
    },
    {
      "cell_type": "code",
      "source": [
        "# 10%\n",
        "random.seed(10)\n",
        "random_df = ratings_data.copy(deep=True)\n",
        "random_ratings_data_10 = random_shuffling(random_df,'movie_ids','ratings', .1, True ) # we can change the percentage we want\n",
        "\n",
        "# 20%\n",
        "random.seed(10)\n",
        "random_df = ratings_data.copy(deep=True)\n",
        "random_ratings_data_20 = random_shuffling(random_df,'movie_ids','ratings', .2, True ) # we can change the percentage we want\n",
        "\n",
        "# 30%\n",
        "random.seed(10)\n",
        "random_df = ratings_data.copy(deep=True)\n",
        "random_ratings_data_30 = random_shuffling(random_df,'movie_ids','ratings', .3, True ) # we can change the percentage we want\n",
        "\n",
        "# 40%\n",
        "random.seed(10)\n",
        "random_df = ratings_data.copy(deep=True)\n",
        "random_ratings_data_40 = random_shuffling(random_df,'movie_ids','ratings', .4, True ) # we can change the percentage we want\n",
        "\n",
        "# 50%\n",
        "random.seed(10)\n",
        "random_df = ratings_data.copy(deep=True)\n",
        "random_ratings_data_50 = random_shuffling(random_df,'movie_ids','ratings', .5, True ) # we can change the percentage we want\n"
      ],
      "metadata": {
        "id": "yfTY_N4gXv17"
      },
      "id": "yfTY_N4gXv17",
      "execution_count": null,
      "outputs": []
    },
    {
      "cell_type": "code",
      "source": [
        "# # Write the DataFrame to CSV file.\n",
        "from google.colab import drive\n",
        "drive.mount('/gdrive')\n",
        "with open('/gdrive/My Drive/547 Project/data/random_ratings_data_10.csv', 'w') as f:\n",
        "  random_ratings_data_10.to_csv(f)\n",
        "with open('/gdrive/My Drive/547 Project/data/random_ratings_data_20.csv', 'w') as f:\n",
        "  random_ratings_data_20.to_csv(f)\n",
        "with open('/gdrive/My Drive/547 Project/data/random_ratings_data_30.csv', 'w') as f:\n",
        "  random_ratings_data_30.to_csv(f)\n",
        "with open('/gdrive/My Drive/547 Project/data/random_ratings_data_40.csv', 'w') as f:\n",
        "  random_ratings_data_40.to_csv(f)\n",
        "with open('/gdrive/My Drive/547 Project/data/random_ratings_data_50.csv', 'w') as f:\n",
        "  random_ratings_data_50.to_csv(f)\n"
      ],
      "metadata": {
        "colab": {
          "base_uri": "https://localhost:8080/"
        },
        "id": "fVtiij37cHDl",
        "outputId": "5c6c30f2-0c20-4b2b-df3e-a868f47d962e"
      },
      "id": "fVtiij37cHDl",
      "execution_count": null,
      "outputs": [
        {
          "output_type": "stream",
          "name": "stdout",
          "text": [
            "Drive already mounted at /gdrive; to attempt to forcibly remount, call drive.mount(\"/gdrive\", force_remount=True).\n"
          ]
        }
      ]
    }
  ],
  "metadata": {
    "colab": {
      "provenance": []
    },
    "kernelspec": {
      "display_name": "magnus",
      "language": "python",
      "name": "magnus"
    },
    "language_info": {
      "codemirror_mode": {
        "name": "ipython",
        "version": 3
      },
      "file_extension": ".py",
      "mimetype": "text/x-python",
      "name": "python",
      "nbconvert_exporter": "python",
      "pygments_lexer": "ipython3",
      "version": "3.9.0"
    },
    "gpuClass": "standard"
  },
  "nbformat": 4,
  "nbformat_minor": 5
}